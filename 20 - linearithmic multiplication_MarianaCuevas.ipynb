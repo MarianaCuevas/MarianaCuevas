{
 "cells": [
  {
   "cell_type": "markdown",
   "metadata": {},
   "source": [
    "   ![](http://tectijuana.edu.mx/wp-content/uploads/2014/11/Heading-Ing-sistemas-2048x672.png),\n",
    "   # Iniciarás con Markdown (MD) las generales del Notebook\n",
    "   ## 20 - linearithmic multiplication_MarianaCuevas\n",
    "   ##  Mariana Cuevas Verdi\n",
    "   ## 01/Sep/2017"
   ]
  },
  {
   "cell_type": "code",
   "execution_count": 7,
   "metadata": {
    "collapsed": true
   },
   "outputs": [],
   "source": [
    "import numpy as np "
   ]
  },
  {
   "cell_type": "markdown",
   "metadata": {},
   "source": [
    "# algorithm"
   ]
  },
  {
   "cell_type": "code",
   "execution_count": 8,
   "metadata": {
    "collapsed": true
   },
   "outputs": [],
   "source": [
    "def mult(x, y):\n",
    "    nx, ny = len(x), len(y)\n",
    "\n",
    "    # auxiliary x\n",
    "    fx = np.zeros(nx + ny, dtype=np.float64)\n",
    "    fx[:nx] = list(map(int, reversed(x)))\n",
    "\n",
    "    # auxiliary y\n",
    "    fy = np.zeros(nx + ny, np.float64)\n",
    "    fy[:ny] += list(map(int, reversed(y)))\n",
    "\n",
    "    # convolution via FFT\n",
    "    fx = np.fft.fft(fx)\n",
    "    fy = np.fft.fft(fy)\n",
    "    z = np.fft.ifft(fx * fy).real.round().astype(int)\n",
    "\n",
    "    # carry over\n",
    "    for i in range(nx + ny - 1):\n",
    "        z[i + 1] += z[i] // 10\n",
    "        z[i] %= 10\n",
    "\n",
    "    return ''.join(map(str, reversed(z)))"
   ]
  },
  {
   "cell_type": "markdown",
   "metadata": {},
   "source": [
    "# run"
   ]
  },
  {
   "cell_type": "code",
   "execution_count": 9,
   "metadata": {},
   "outputs": [
    {
     "ename": "ValueError",
     "evalue": "high is out of bounds for int32",
     "output_type": "error",
     "traceback": [
      "\u001b[1;31m---------------------------------------------------------------------------\u001b[0m",
      "\u001b[1;31mValueError\u001b[0m                                Traceback (most recent call last)",
      "\u001b[1;32m<ipython-input-9-645a570a7346>\u001b[0m in \u001b[0;36m<module>\u001b[1;34m()\u001b[0m\n\u001b[0;32m      1\u001b[0m \u001b[1;32mfor\u001b[0m \u001b[0m_\u001b[0m \u001b[1;32min\u001b[0m \u001b[0mrange\u001b[0m\u001b[1;33m(\u001b[0m\u001b[1;36m10\u001b[0m\u001b[1;33m)\u001b[0m\u001b[1;33m:\u001b[0m\u001b[1;33m\u001b[0m\u001b[0m\n\u001b[1;32m----> 2\u001b[1;33m     \u001b[0mx\u001b[0m\u001b[1;33m,\u001b[0m \u001b[0my\u001b[0m \u001b[1;33m=\u001b[0m \u001b[0mnp\u001b[0m\u001b[1;33m.\u001b[0m\u001b[0mrandom\u001b[0m\u001b[1;33m.\u001b[0m\u001b[0mrandint\u001b[0m\u001b[1;33m(\u001b[0m\u001b[1;36m1e+3\u001b[0m\u001b[1;33m,\u001b[0m \u001b[1;36m1e+10\u001b[0m\u001b[1;33m,\u001b[0m \u001b[1;36m2\u001b[0m\u001b[1;33m)\u001b[0m\u001b[1;33m\u001b[0m\u001b[0m\n\u001b[0m\u001b[0;32m      3\u001b[0m     \u001b[0mprint\u001b[0m\u001b[1;33m(\u001b[0m\u001b[0mx\u001b[0m\u001b[1;33m,\u001b[0m \u001b[1;34m'*'\u001b[0m\u001b[1;33m,\u001b[0m \u001b[0my\u001b[0m\u001b[1;33m,\u001b[0m \u001b[1;34m'='\u001b[0m\u001b[1;33m,\u001b[0m \u001b[0mmult\u001b[0m\u001b[1;33m(\u001b[0m\u001b[0mstr\u001b[0m\u001b[1;33m(\u001b[0m\u001b[0mx\u001b[0m\u001b[1;33m)\u001b[0m\u001b[1;33m,\u001b[0m \u001b[0mstr\u001b[0m\u001b[1;33m(\u001b[0m\u001b[0my\u001b[0m\u001b[1;33m)\u001b[0m\u001b[1;33m)\u001b[0m\u001b[1;33m)\u001b[0m\u001b[1;33m\u001b[0m\u001b[0m\n",
      "\u001b[1;32mmtrand.pyx\u001b[0m in \u001b[0;36mmtrand.RandomState.randint (numpy\\random\\mtrand\\mtrand.c:16083)\u001b[1;34m()\u001b[0m\n",
      "\u001b[1;31mValueError\u001b[0m: high is out of bounds for int32"
     ]
    }
   ],
   "source": [
    "for _ in range(10):\n",
    "    x, y = np.random.randint(1e+3, 1e+10, 2)\n",
    "    print(x, '*', y, '=', mult(str(x), str(y)))"
   ]
  },
  {
   "cell_type": "code",
   "execution_count": null,
   "metadata": {
    "collapsed": true
   },
   "outputs": [],
   "source": []
  }
 ],
 "metadata": {
  "kernelspec": {
   "display_name": "Python 3",
   "language": "python",
   "name": "python3"
  },
  "language_info": {
   "codemirror_mode": {
    "name": "ipython",
    "version": 3
   },
   "file_extension": ".py",
   "mimetype": "text/x-python",
   "name": "python",
   "nbconvert_exporter": "python",
   "pygments_lexer": "ipython3",
   "version": "3.6.1"
  }
 },
 "nbformat": 4,
 "nbformat_minor": 2
}

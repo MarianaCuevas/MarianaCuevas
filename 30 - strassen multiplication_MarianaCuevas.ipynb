{
 "cells": [
  {
   "cell_type": "markdown",
   "metadata": {},
   "source": [
    "   ![](http://tectijuana.edu.mx/wp-content/uploads/2014/11/Heading-Ing-sistemas-2048x672.png),\n",
    "   # Iniciarás con Markdown (MD) las generales del Notebook\n",
    "   ## 30 - strassen multiplication_MarianaCuevas\n",
    "   ##  Mariana Cuevas Verdi\n",
    "   ## 01/Sep/2017"
   ]
  },
  {
   "cell_type": "code",
   "execution_count": 1,
   "metadata": {
    "collapsed": true
   },
   "outputs": [],
   "source": [
    "import numpy as np"
   ]
  },
  {
   "cell_type": "markdown",
   "metadata": {},
   "source": [
    "# algorithm"
   ]
  },
  {
   "cell_type": "code",
   "execution_count": 2,
   "metadata": {
    "collapsed": true
   },
   "outputs": [],
   "source": [
    "\n",
    "\n",
    "def strassen(A, B):\n",
    "    k = A.shape[0] // 2\n",
    "    if k == 0:\n",
    "        return A * B\n",
    "\n",
    "    A11, A12 = A[:k, :k], A[:k, k:]\n",
    "    A21, A22 = A[k:, :k], A[k:, k:]\n",
    "    B11, B12 = B[:k, :k], B[:k, k:]\n",
    "    B21, B22 = B[k:, :k], B[k:, k:]\n",
    "    \n",
    "    T1 = strassen(A11 + A22, B11 + B22)\n",
    "    T2 = strassen(A21 + A22, B11)\n",
    "    T3 = strassen(A11, B12 - B22)\n",
    "    T4 = strassen(A22, B21 - B11)\n",
    "    T5 = strassen(A11 + A12, B22)\n",
    "    T6 = strassen(A21 - A11, B11 + B12)\n",
    "    T7 = strassen(A12 - A22, B21 + B22)\n",
    "    \n",
    "    C = np.zeros(A.shape, dtype=A.dtype)\n",
    "    C[:k, :k] = T1 + T4 - T5 + T7\n",
    "    C[:k, k:] = T3 + T5\n",
    "    C[k:, :k] = T2 + T4\n",
    "    C[k:, k:] = T1 - T2 + T3 + T6\n",
    "    \n",
    "    return C\n",
    "\n"
   ]
  },
  {
   "cell_type": "markdown",
   "metadata": {},
   "source": [
    "# run"
   ]
  },
  {
   "cell_type": "code",
   "execution_count": 3,
   "metadata": {},
   "outputs": [
    {
     "data": {
      "text/plain": [
       "array([[4, 6, 1, 5, 3, 0, 1, 9],\n",
       "       [0, 4, 8, 4, 9, 0, 9, 4],\n",
       "       [3, 1, 7, 7, 6, 4, 6, 2],\n",
       "       [1, 2, 0, 1, 2, 8, 0, 0],\n",
       "       [4, 5, 1, 0, 3, 3, 5, 0],\n",
       "       [8, 1, 6, 8, 5, 3, 3, 9],\n",
       "       [4, 9, 4, 0, 9, 3, 6, 8],\n",
       "       [6, 5, 3, 3, 4, 5, 1, 4]])"
      ]
     },
     "execution_count": 3,
     "metadata": {},
     "output_type": "execute_result"
    }
   ],
   "source": [
    "X = np.random.randint(0, 10, (8, 8))\n",
    "X"
   ]
  },
  {
   "cell_type": "code",
   "execution_count": 4,
   "metadata": {},
   "outputs": [
    {
     "data": {
      "text/plain": [
       "array([[9, 6, 2, 9, 9, 5, 6, 2],\n",
       "       [8, 2, 4, 9, 0, 5, 4, 5],\n",
       "       [3, 3, 7, 2, 1, 2, 4, 3],\n",
       "       [8, 6, 8, 0, 2, 7, 2, 8],\n",
       "       [0, 5, 5, 0, 8, 2, 2, 1],\n",
       "       [1, 9, 7, 6, 9, 4, 6, 3],\n",
       "       [8, 3, 8, 1, 4, 6, 6, 2],\n",
       "       [3, 4, 4, 8, 5, 2, 2, 3]])"
      ]
     },
     "execution_count": 4,
     "metadata": {},
     "output_type": "execute_result"
    }
   ],
   "source": [
    "Y = np.random.randint(0, 10, (8, 8))\n",
    "Y"
   ]
  },
  {
   "cell_type": "code",
   "execution_count": 5,
   "metadata": {},
   "outputs": [
    {
     "data": {
      "text/plain": [
       "array([[162, 123, 138, 165, 120, 117,  92, 113],\n",
       "       [172, 144, 237,  93, 144, 144, 136, 115],\n",
       "       [170, 175, 229,  96, 166, 151, 140, 124],\n",
       "       [ 41,  98,  84,  75,  99,  58,  68,  46],\n",
       "       [122,  94, 111, 106, 108,  95, 102,  58],\n",
       "       [216, 213, 232, 186, 218, 171, 156, 150],\n",
       "       [195, 176, 218, 213, 203, 155, 164, 119],\n",
       "       [152, 157, 156, 168, 164, 124, 126, 103]])"
      ]
     },
     "execution_count": 5,
     "metadata": {},
     "output_type": "execute_result"
    }
   ],
   "source": [
    "strassen(X, Y)"
   ]
  },
  {
   "cell_type": "code",
   "execution_count": null,
   "metadata": {
    "collapsed": true
   },
   "outputs": [],
   "source": []
  }
 ],
 "metadata": {
  "kernelspec": {
   "display_name": "Python 3",
   "language": "python",
   "name": "python3"
  },
  "language_info": {
   "codemirror_mode": {
    "name": "ipython",
    "version": 3
   },
   "file_extension": ".py",
   "mimetype": "text/x-python",
   "name": "python",
   "nbconvert_exporter": "python",
   "pygments_lexer": "ipython3",
   "version": "3.6.1"
  }
 },
 "nbformat": 4,
 "nbformat_minor": 2
}

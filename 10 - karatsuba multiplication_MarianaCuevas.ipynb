{
 "cells": [
  {
   "cell_type": "markdown",
   "metadata": {},
   "source": [
    "   ![](http://tectijuana.edu.mx/wp-content/uploads/2014/11/Heading-Ing-sistemas-2048x672.png),\n",
    "   # Iniciarás con Markdown (MD) las generales del Notebook\n",
    "   ## 10 - karatsuba multiplication_MarianaCuevas\n",
    "   ## Multiplicaciones\n",
    "   ##  Mariana Cuevas Verdi\n",
    "   ## 01/Sep/2017"
   ]
  },
  {
   "cell_type": "code",
   "execution_count": 1,
   "metadata": {
    "collapsed": true
   },
   "outputs": [],
   "source": [
    "import numpy as np\n",
    "from itertools import zip_longest"
   ]
  },
  {
   "cell_type": "markdown",
   "metadata": {},
   "source": [
    "# algorithm"
   ]
  },
  {
   "cell_type": "code",
   "execution_count": 2,
   "metadata": {
    "collapsed": true
   },
   "outputs": [],
   "source": [
    "def add(x, y):\n",
    "    z, carry = [], 0\n",
    "\n",
    "    for r, s in zip_longest(x, y, fillvalue=0):\n",
    "        t = r + s + carry\n",
    "        carry = t // 10\n",
    "        z.append(t % 10)\n",
    "    if carry:\n",
    "        z.append(carry)\n",
    "\n",
    "    return z"
   ]
  },
  {
   "cell_type": "code",
   "execution_count": 3,
   "metadata": {
    "collapsed": true
   },
   "outputs": [],
   "source": [
    "def sub(x, y):\n",
    "    z, carry = [], 0\n",
    "\n",
    "    for r, s in zip_longest(x, y, fillvalue=0):\n",
    "        t = r - s + carry\n",
    "        carry = t // 10\n",
    "        z.append(t % 10)\n",
    "\n",
    "    return z"
   ]
  },
  {
   "cell_type": "code",
   "execution_count": 4,
   "metadata": {
    "collapsed": true
   },
   "outputs": [],
   "source": [
    "def karatsuba(x, y):\n",
    "    # ensure same length\n",
    "    while len(x) < len(y):\n",
    "        x.append(0)\n",
    "    while len(x) > len(y):\n",
    "        y.append(0)\n",
    "\n",
    "    # length and split\n",
    "    n = len(x)\n",
    "    n_2 = (n + 1) >> 1\n",
    "\n",
    "    # trivial case\n",
    "    if n == 1:\n",
    "        return add([x[0] * y[0]], [])\n",
    "\n",
    "    # split\n",
    "    x0, x1 = x[:n_2], x[n_2:]\n",
    "    y0, y1 = y[:n_2], y[n_2:]\n",
    "\n",
    "    # karatsuba algorithm\n",
    "    z0 = karatsuba(x0, y0)\n",
    "    z1 = karatsuba(x1, y1)\n",
    "    z2 = karatsuba(add(x0, x1), add(y0, y1))\n",
    "    z2 = sub(sub(z2, z0), z1)\n",
    "\n",
    "    z = add(z0, [0] * (n_2 << 1) + z1)\n",
    "    z = add(z, [0] * n_2 + z2)\n",
    "\n",
    "    return z"
   ]
  },
  {
   "cell_type": "markdown",
   "metadata": {},
   "source": [
    "# run"
   ]
  },
  {
   "cell_type": "code",
   "execution_count": 5,
   "metadata": {
    "collapsed": true
   },
   "outputs": [],
   "source": [
    "\n",
    "\n",
    "def mult(x, y):\n",
    "    print(x, '*', y, '=', int(x) * int(y), end=' = ')\n",
    "\n",
    "    x = list(map(int, reversed(x)))\n",
    "    y = list(map(int, reversed(y)))\n",
    "    z = karatsuba(x, y)\n",
    "\n",
    "    print(''.join(map(str, reversed(z))))\n",
    "\n"
   ]
  },
  {
   "cell_type": "code",
   "execution_count": 6,
   "metadata": {},
   "outputs": [
    {
     "name": "stdout",
     "output_type": "stream",
     "text": [
      "1234 * 4321 = 5332114 = 5332114\n"
     ]
    }
   ],
   "source": [
    "mult('1234', '4321')"
   ]
  },
  {
   "cell_type": "code",
   "execution_count": 7,
   "metadata": {},
   "outputs": [
    {
     "name": "stdout",
     "output_type": "stream",
     "text": [
      "5678 * 8765 = 49767670 = 49767670\n"
     ]
    }
   ],
   "source": [
    "mult('5678', '8765')"
   ]
  },
  {
   "cell_type": "code",
   "execution_count": 8,
   "metadata": {},
   "outputs": [
    {
     "name": "stdout",
     "output_type": "stream",
     "text": [
      "9999 * 9999 = 99980001 = 99980001\n"
     ]
    }
   ],
   "source": [
    "mult('9999', '9999')"
   ]
  },
  {
   "cell_type": "code",
   "execution_count": 11,
   "metadata": {},
   "outputs": [
    {
     "name": "stdout",
     "output_type": "stream",
     "text": [
      "48 * 48 = 2304 = 2304\n",
      "501161392 * 320143009 = 160443316029508528 = 160443316029508528\n",
      "383530 * 142834 = 54781124020 = 054781124020\n",
      "5916743 * 9067511 = 53650132236673 = 53650132236673\n",
      "85112551 * 20867472 = 1776083774841072 = 1776083774841072\n",
      "2575638 * 5357954 = 13800149924652 = 13800149924652\n",
      "94263667 * 63609724 = 5996085841097908 = 5996085841097908\n",
      "94785 * 31596 = 2994826860 = 02994826860\n",
      "274430 * 864545 = 237257084350 = 237257084350\n",
      "4898 * 5846 = 28633708 = 28633708\n",
      "331825 * 287445 = 95381437125 = 095381437125\n",
      "3556922 * 2057701 = 7319081956322 = 07319081956322\n",
      "854 * 814 = 695156 = 695156\n",
      "85867438 * 68647308 = 5894568463556904 = 5894568463556904\n",
      "90 * 20 = 1800 = 1800\n",
      "7954 * 8877 = 70607658 = 70607658\n",
      "39470987 * 14931179 = 589348372203673 = 0589348372203673\n",
      "5920401030 * 9385577717 = 55566383982871848510 = 55566383982871848510\n",
      "3132044552 * 5735016398 = 17962326864986563696 = 17962326864986563696\n",
      "147 * 681 = 100107 = 100107\n",
      "8310344847 * 7040177839 = 58506305626297245633 = 58506305626297245633\n",
      "0213 * 3257 = 693741 = 0693741\n",
      "50 * 41 = 2050 = 2050\n",
      "7 * 2 = 14 = 14\n",
      "898 * 332 = 298136 = 0298136\n",
      "8613176747 * 3736877367 = 32186385243834985149 = 32186385243834985149\n",
      "012810 * 484201 = 6202614810 = 006202614810\n",
      "8866 * 1064 = 9433424 = 09433424\n",
      "98 * 81 = 7938 = 7938\n",
      "4 * 9 = 36 = 36\n"
     ]
    }
   ],
   "source": [
    "for _ in range(30):\n",
    "    n = np.random.randint(1, 11)\n",
    "    x = ''.join(map(str, np.random.randint(0, 10, n)))\n",
    "    y = ''.join(map(str, np.random.randint(0, 10, n)))\n",
    "    mult(x, y)"
   ]
  },
  {
   "cell_type": "code",
   "execution_count": null,
   "metadata": {
    "collapsed": true
   },
   "outputs": [],
   "source": []
  }
 ],
 "metadata": {
  "kernelspec": {
   "display_name": "Python 3",
   "language": "python",
   "name": "python3"
  },
  "language_info": {
   "codemirror_mode": {
    "name": "ipython",
    "version": 3
   },
   "file_extension": ".py",
   "mimetype": "text/x-python",
   "name": "python",
   "nbconvert_exporter": "python",
   "pygments_lexer": "ipython3",
   "version": "3.6.1"
  }
 },
 "nbformat": 4,
 "nbformat_minor": 2
}

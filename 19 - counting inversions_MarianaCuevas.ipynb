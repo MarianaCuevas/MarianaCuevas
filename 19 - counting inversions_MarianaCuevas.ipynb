{
 "cells": [
  {
   "cell_type": "markdown",
   "metadata": {},
   "source": [
    "   ![](http://tectijuana.edu.mx/wp-content/uploads/2014/11/Heading-Ing-sistemas-2048x672.png),\n",
    "   # Iniciarás con Markdown (MD) las generales del Notebook\n",
    "   ## 19 - counting inversions_MarianaCuevas\n",
    "   ##  Mariana Cuevas Verdi\n",
    "   ## 01/Sep/2017"
   ]
  },
  {
   "cell_type": "code",
   "execution_count": 1,
   "metadata": {
    "collapsed": true
   },
   "outputs": [],
   "source": [
    "import numpy as np"
   ]
  },
  {
   "cell_type": "markdown",
   "metadata": {},
   "source": [
    "# algorithm"
   ]
  },
  {
   "cell_type": "code",
   "execution_count": 5,
   "metadata": {
    "collapsed": true
   },
   "outputs": [],
   "source": [
    "def inversions(items):\n",
    "    n = len(items)\n",
    "    if n <= 1:\n",
    "        return items, 0\n",
    "\n",
    "    # number of inversions in partitions\n",
    "    left, linv = inversions(items[:n // 2])\n",
    "    right, rinv = inversions(items[n // 2:])\n",
    "\n",
    "    inv = linv + rinv\n",
    "    llen, rlen = len(left), len(right)\n",
    "    i, j, aux = 0, 0, []\n",
    "\n",
    "    # merge and count inversions\n",
    "    for k in range(n):\n",
    "        if i < llen and j < rlen and left[i] > right[j]:\n",
    "            inv += llen - i\n",
    "            aux.append(right[j])\n",
    "            j += 1\n",
    "        elif i < llen:\n",
    "            aux.append(left[i])\n",
    "            i += 1\n",
    "        else:\n",
    "            aux.append(right[j])\n",
    "            j += 1\n",
    "    \n",
    "    return aux, inv"
   ]
  },
  {
   "cell_type": "markdown",
   "metadata": {},
   "source": [
    "# run"
   ]
  },
  {
   "cell_type": "code",
   "execution_count": 11,
   "metadata": {},
   "outputs": [
    {
     "data": {
      "text/plain": [
       "[2, 6, 5, 24, 13, 5, 7, 19, 10, 12]"
      ]
     },
     "execution_count": 11,
     "metadata": {},
     "output_type": "execute_result"
    }
   ],
   "source": [
    "items = list(np.random.randint(0, 30, 10))\n",
    "items"
   ]
  },
  {
   "cell_type": "code",
   "execution_count": 12,
   "metadata": {},
   "outputs": [
    {
     "data": {
      "text/plain": [
       "([2, 5, 5, 6, 7, 10, 12, 13, 19, 24], 14)"
      ]
     },
     "execution_count": 12,
     "metadata": {},
     "output_type": "execute_result"
    }
   ],
   "source": [
    "inversions(items)"
   ]
  },
  {
   "cell_type": "code",
   "execution_count": null,
   "metadata": {
    "collapsed": true
   },
   "outputs": [],
   "source": []
  }
 ],
 "metadata": {
  "kernelspec": {
   "display_name": "Python 3",
   "language": "python",
   "name": "python3"
  },
  "language_info": {
   "codemirror_mode": {
    "name": "ipython",
    "version": 3
   },
   "file_extension": ".py",
   "mimetype": "text/x-python",
   "name": "python",
   "nbconvert_exporter": "python",
   "pygments_lexer": "ipython3",
   "version": "3.6.1"
  }
 },
 "nbformat": 4,
 "nbformat_minor": 2
}

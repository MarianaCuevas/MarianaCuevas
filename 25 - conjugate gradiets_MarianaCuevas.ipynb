{
 "cells": [
  {
   "cell_type": "markdown",
   "metadata": {},
   "source": [
    "   ![](http://tectijuana.edu.mx/wp-content/uploads/2014/11/Heading-Ing-sistemas-2048x672.png),\n",
    "   # Iniciarás con Markdown (MD) las generales del Notebook\n",
    "   ## 25 - conjugate gradiets_MarianaCuevas\n",
    "   ##  Mariana Cuevas Verdi\n",
    "   ## 01/Sep/2017"
   ]
  },
  {
   "cell_type": "code",
   "execution_count": 1,
   "metadata": {
    "collapsed": true
   },
   "outputs": [],
   "source": [
    "import numpy as np"
   ]
  },
  {
   "cell_type": "markdown",
   "metadata": {},
   "source": [
    "# algorithm"
   ]
  },
  {
   "cell_type": "code",
   "execution_count": 2,
   "metadata": {
    "collapsed": true
   },
   "outputs": [],
   "source": [
    "def conjugate_gradients(A, b):\n",
    "    x = np.zeros(A.shape[1])\n",
    "    residuals = b - A @ x\n",
    "    direction = residuals\n",
    "    error = residuals.T @ residuals\n",
    "\n",
    "    # step along conjugate directions\n",
    "    while error > 1e-8:\n",
    "        x += direction * error / (direction.T @ A @ direction)\n",
    "        residuals = b - A @ x\n",
    "        error1 = error\n",
    "        error = residuals.T @ residuals\n",
    "        direction = residuals + error / error1 * direction\n",
    "\n",
    "    return x"
   ]
  },
  {
   "cell_type": "markdown",
   "metadata": {},
   "source": [
    "# run"
   ]
  },
  {
   "cell_type": "code",
   "execution_count": 3,
   "metadata": {},
   "outputs": [
    {
     "name": "stdout",
     "output_type": "stream",
     "text": [
      "A\n",
      "[[ 0.37990883  0.92294044  0.67164625]\n",
      " [ 0.42807927  0.44805243  0.53073921]\n",
      " [ 0.29523096  0.76412767  0.65122319]\n",
      " [ 0.08975785  0.24060581  0.19552723]\n",
      " [ 0.10713974  0.45195138  0.72937303]]\n",
      "b\n",
      "[ 0.90580283  0.64244399  0.36284661  0.93906905  0.68193386]\n",
      "x\n",
      "[ 0.39585448  0.23116662  0.67241497]\n"
     ]
    }
   ],
   "source": [
    "A = np.random.rand(5, 3)\n",
    "b = np.random.rand(5)\n",
    "\n",
    "print('A')\n",
    "print(A)\n",
    "print('b')\n",
    "print(b)\n",
    "print('x')\n",
    "\n",
    "# make system positive semidefinite\n",
    "print(conjugate_gradients(A.T @ A, A.T @ b))"
   ]
  },
  {
   "cell_type": "code",
   "execution_count": null,
   "metadata": {
    "collapsed": true
   },
   "outputs": [],
   "source": []
  }
 ],
 "metadata": {
  "kernelspec": {
   "display_name": "Python 3",
   "language": "python",
   "name": "python3"
  },
  "language_info": {
   "codemirror_mode": {
    "name": "ipython",
    "version": 3
   },
   "file_extension": ".py",
   "mimetype": "text/x-python",
   "name": "python",
   "nbconvert_exporter": "python",
   "pygments_lexer": "ipython3",
   "version": "3.6.1"
  }
 },
 "nbformat": 4,
 "nbformat_minor": 2
}

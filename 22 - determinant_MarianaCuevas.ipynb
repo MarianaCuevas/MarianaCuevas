{
 "cells": [
  {
   "cell_type": "markdown",
   "metadata": {},
   "source": [
    "   ![](http://tectijuana.edu.mx/wp-content/uploads/2014/11/Heading-Ing-sistemas-2048x672.png),\n",
    "   # Iniciarás con Markdown (MD) las generales del Notebook\n",
    "   ## 22 - determinant_MarianaCuevas\n",
    "   ## Calcula la determinante de una matriz\n",
    "   ##  Mariana Cuevas Verdi\n",
    "   ## 01/Sep/2017"
   ]
  },
  {
   "cell_type": "code",
   "execution_count": 1,
   "metadata": {
    "collapsed": true
   },
   "outputs": [],
   "source": [
    "import numpy as np"
   ]
  },
  {
   "cell_type": "markdown",
   "metadata": {},
   "source": [
    "# algorithm"
   ]
  },
  {
   "cell_type": "code",
   "execution_count": 2,
   "metadata": {
    "collapsed": true
   },
   "outputs": [],
   "source": [
    "def determinant(x):\n",
    "    if x.size == 1:\n",
    "        return x[0, 0]\n",
    "    \n",
    "    # pivot\n",
    "    i = np.abs(x[:, 0]).argmax()\n",
    "    pivot = x[i, 0]\n",
    "    if np.abs(pivot) < 1e-15:\n",
    "        return 0\n",
    "    \n",
    "    # gauss elimination\n",
    "    n = len(x)\n",
    "    y = x - x[:, 0].reshape(n, 1) @ (x[i, :] / x[i, 0]).reshape(1, n)\n",
    "    y = y[np.arange(n) != i, 1:]\n",
    "\n",
    "    # recursion\n",
    "    return pivot * (-1) ** (i % 2) * determinant(y)"
   ]
  },
  {
   "cell_type": "markdown",
   "metadata": {},
   "source": [
    "# run"
   ]
  },
  {
   "cell_type": "code",
   "execution_count": 3,
   "metadata": {},
   "outputs": [
    {
     "data": {
      "text/plain": [
       "array([[-0.03457181, -0.7212679 ,  0.67622403, -0.44632254,  0.76279274],\n",
       "       [-0.5866307 ,  0.51184679,  0.50957932,  0.10682746,  0.94328289],\n",
       "       [ 0.07851174,  0.92563726, -0.57263987,  0.05193159,  0.83371311],\n",
       "       [-0.86044472,  0.61634997, -0.11173975, -0.82958427, -0.37828282],\n",
       "       [ 0.90206045, -0.46314491, -0.95396413,  0.05412701, -0.28603036]])"
      ]
     },
     "execution_count": 3,
     "metadata": {},
     "output_type": "execute_result"
    }
   ],
   "source": [
    "X = np.random.rand(5, 5) * 2 - 1\n",
    "X"
   ]
  },
  {
   "cell_type": "code",
   "execution_count": 4,
   "metadata": {},
   "outputs": [
    {
     "data": {
      "text/plain": [
       "0.42413120696202372"
      ]
     },
     "execution_count": 4,
     "metadata": {},
     "output_type": "execute_result"
    }
   ],
   "source": [
    "determinant(X)"
   ]
  },
  {
   "cell_type": "code",
   "execution_count": null,
   "metadata": {
    "collapsed": true
   },
   "outputs": [],
   "source": []
  }
 ],
 "metadata": {
  "kernelspec": {
   "display_name": "Python 3",
   "language": "python",
   "name": "python3"
  },
  "language_info": {
   "codemirror_mode": {
    "name": "ipython",
    "version": 3
   },
   "file_extension": ".py",
   "mimetype": "text/x-python",
   "name": "python",
   "nbconvert_exporter": "python",
   "pygments_lexer": "ipython3",
   "version": "3.6.1"
  }
 },
 "nbformat": 4,
 "nbformat_minor": 2
}
